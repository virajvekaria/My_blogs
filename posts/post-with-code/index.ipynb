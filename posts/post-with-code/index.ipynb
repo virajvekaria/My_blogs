{
  "cells": [
    {
      "cell_type": "raw",
      "metadata": {},
      "source": [
        "---\n",
        "title: \"Optimization algorithms\"\n",
        "author: \"Viraj Vekaria\"\n",
        "date: \"07-09-2023\"\n",
        "categories: [Machine Learning]\n",
        "image: \"image.jpg\"\n",
        "---"
      ],
      "id": "d472cdc9"
    },
    {
      "cell_type": "markdown",
      "metadata": {},
      "source": [
        "Test test"
      ],
      "id": "30410014"
    },
    {
      "cell_type": "markdown",
      "metadata": {},
      "source": [
        "```{notebook} \\code\\sgd_momentum.ipynb"
      ],
      "id": "aadb7ef0"
    }
  ],
  "metadata": {
    "kernelspec": {
      "name": "python3",
      "language": "python",
      "display_name": "Python 3 (ipykernel)"
    }
  },
  "nbformat": 4,
  "nbformat_minor": 5
}