{
  "cells": [
    {
      "cell_type": "raw",
      "metadata": {},
      "source": [
        "---\n",
        "title: \"Optimization algorithms\"\n",
        "author: \"Viraj Vekaria\"\n",
        "date: \"07-09-2023\"\n",
        "categories: [Machine Learning]\n",
        "image: \"image.jpg\"\n",
        "---"
      ],
      "id": "2d5bcf92"
    },
    {
      "cell_type": "markdown",
      "metadata": {},
      "source": [
        "Test test"
      ],
      "id": "14bbb1aa"
    },
    {
      "cell_type": "markdown",
      "metadata": {},
      "source": [
        "```{notebook} code\\sgd_momentum.ipynb"
      ],
      "id": "b3d25464"
    }
  ],
  "metadata": {
    "kernelspec": {
      "name": "python3",
      "language": "python",
      "display_name": "Python 3 (ipykernel)"
    }
  },
  "nbformat": 4,
  "nbformat_minor": 5
}